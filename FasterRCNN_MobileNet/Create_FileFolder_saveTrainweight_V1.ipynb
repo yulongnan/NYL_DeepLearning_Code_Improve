{
 "cells": [
  {
   "cell_type": "code",
   "execution_count": 2,
   "source": [
    "#===创建的目录= 函数===#\r\n",
    "def mkdir(path):\r\n",
    "    import os      # 引入模块\r\n",
    "    isExists=os.path.exists(path) # 判断路径是否存在 #存在True  #不存在 False\r\n",
    "    if not isExists: # 判断结果\r\n",
    "        os.makedirs(path) # 创建目录操作函数\r\n",
    "        print (path +' 创建成功')\r\n",
    "        return True\r\n",
    "    else:  \r\n",
    "        print (path+' 目录已存在')# 如果目录存在则不创建，并提示目录已存在\r\n",
    "        return False\r\n",
    "\r\n",
    "if True:\r\n",
    "    # 定义要创建的目录2\r\n",
    "    Image_path2 = [\"./Train_weight_save/HLG_Ori_weight/Ori_res50_weight\",  \"./Train_weight_save/HLG_Ori_weight/Ori_vgg16_weight\", \"./Train_weight_save/HLG_Ori_weight/Ori_mobv3_weight\",\r\n",
    "                \"./Train_weight_save/HLG_Rb_weight/Rb_res50_weight\",  \"./Train_weight_save/HLG_Rb_weight/Rb_vgg16_weight\", \"./Train_weight_save/HLG_Rb_weight/Rb_mobv3_weight\"]   \r\n",
    "    # 调用函数2\r\n",
    "    for path in Image_path2:\r\n",
    "        mkdir(path)\r\n",
    "        \r\n",
    "        "
   ],
   "outputs": [
    {
     "output_type": "stream",
     "name": "stdout",
     "text": [
      "./Train_weight_save/HLG_Ori_weight/Ori_res50_weight 目录已存在\n",
      "./Train_weight_save/HLG_Ori_weight/Ori_vgg16_weight 目录已存在\n",
      "./Train_weight_save/HLG_Ori_weight/Ori_mobv3_weight 目录已存在\n",
      "./Train_weight_save/HLG_Rb_weight/Rb_res50_weight 创建成功\n",
      "./Train_weight_save/HLG_Rb_weight/Rb_vgg16_weight 创建成功\n",
      "./Train_weight_save/HLG_Rb_weight/Rb_mobv3_weight 创建成功\n"
     ]
    }
   ],
   "metadata": {}
  }
 ],
 "metadata": {
  "orig_nbformat": 4,
  "language_info": {
   "name": "python",
   "version": "3.8.8",
   "mimetype": "text/x-python",
   "codemirror_mode": {
    "name": "ipython",
    "version": 3
   },
   "pygments_lexer": "ipython3",
   "nbconvert_exporter": "python",
   "file_extension": ".py"
  },
  "kernelspec": {
   "name": "python3",
   "display_name": "Python 3.8.8 64-bit ('base': conda)"
  },
  "interpreter": {
   "hash": "b3ba2566441a7c06988d0923437866b63cedc61552a5af99d1f4fb67d367b25f"
  }
 },
 "nbformat": 4,
 "nbformat_minor": 2
}